{
 "cells": [
  {
   "cell_type": "markdown",
   "metadata": {
    "colab_type": "text",
    "id": "EvpyI0E7SpNT"
   },
   "source": [
    "## Random Forest\n",
    "\n",
    "Random Forest is an ensemble of Decision Trees. With a few exceptions, a `RandomForestClassifier` has all the hyperparameters of a `DecisionTreeClassifier` (to control how trees are grown), plus all the hyperparameters of a `BaggingClassifier` to control the ensemble itself.\n",
    "\n",
    "The Random Forest algorithm introduces extra randomness when growing trees; instead of searching for the very best feature when splitting a node, it searches for the best feature among a random subset of features. This results in a greater tree diversity, which (once again) trades a higher bias for a lower variance, generally yielding an overall better model. The following `BaggingClassifier` is roughly equivalent to the previous `RandomForestClassifier`. Run the cell below to visualize a single estimator from a random forest model, using the Iris dataset to classify the data into the appropriate species."
   ]
  },
  {
   "cell_type": "code",
   "execution_count": 1,
   "metadata": {
    "colab": {
     "base_uri": "https://localhost:8080/",
     "height": 1000,
     "output_embedded_package_id": "1NIbktS4yyfVlE2Y4bXMargRbQgbdWTFh"
    },
    "colab_type": "code",
    "executionInfo": {
     "elapsed": 7579,
     "status": "ok",
     "timestamp": 1592213046926,
     "user": {
      "displayName": "Andrew Maguire",
      "photoUrl": "https://lh3.googleusercontent.com/a-/AOh14GjaIpd1sqQPWOc9NJXtyl5fYSonikxEZgshlvloAYk=s64",
      "userId": "13447906511017779027"
     },
     "user_tz": -60
    },
    "id": "z_-6xEUFSpNU",
    "outputId": "75184be3-e99c-4c44-a638-824a9ba0b1e9"
   },
   "outputs": [
    {
     "ename": "FileNotFoundError",
     "evalue": "[WinError 2] The system cannot find the file specified",
     "output_type": "error",
     "traceback": [
      "\u001b[1;31m---------------------------------------------------------------------------\u001b[0m",
      "\u001b[1;31mFileNotFoundError\u001b[0m                         Traceback (most recent call last)",
      "\u001b[1;32m<ipython-input-1-6d9aafea91ef>\u001b[0m in \u001b[0;36m<module>\u001b[1;34m\u001b[0m\n\u001b[0;32m     21\u001b[0m \u001b[1;31m# Convert to png using system command (requires Graphviz)\u001b[0m\u001b[1;33m\u001b[0m\u001b[1;33m\u001b[0m\u001b[1;33m\u001b[0m\u001b[0m\n\u001b[0;32m     22\u001b[0m \u001b[1;32mfrom\u001b[0m \u001b[0msubprocess\u001b[0m \u001b[1;32mimport\u001b[0m \u001b[0mcall\u001b[0m\u001b[1;33m\u001b[0m\u001b[1;33m\u001b[0m\u001b[0m\n\u001b[1;32m---> 23\u001b[1;33m \u001b[0mcall\u001b[0m\u001b[1;33m(\u001b[0m\u001b[1;33m[\u001b[0m\u001b[1;34m'dot'\u001b[0m\u001b[1;33m,\u001b[0m \u001b[1;34m'-Tpng'\u001b[0m\u001b[1;33m,\u001b[0m \u001b[1;34m'tree.dot'\u001b[0m\u001b[1;33m,\u001b[0m \u001b[1;34m'-o'\u001b[0m\u001b[1;33m,\u001b[0m \u001b[1;34m'tree.png'\u001b[0m\u001b[1;33m,\u001b[0m \u001b[1;34m'-Gdpi=600'\u001b[0m\u001b[1;33m]\u001b[0m\u001b[1;33m)\u001b[0m\u001b[1;33m\u001b[0m\u001b[1;33m\u001b[0m\u001b[0m\n\u001b[0m\u001b[0;32m     24\u001b[0m \u001b[1;33m\u001b[0m\u001b[0m\n\u001b[0;32m     25\u001b[0m \u001b[1;31m# Display in jupyter notebook\u001b[0m\u001b[1;33m\u001b[0m\u001b[1;33m\u001b[0m\u001b[1;33m\u001b[0m\u001b[0m\n",
      "\u001b[1;32m~\\anaconda3\\lib\\subprocess.py\u001b[0m in \u001b[0;36mcall\u001b[1;34m(timeout, *popenargs, **kwargs)\u001b[0m\n\u001b[0;32m    337\u001b[0m     \u001b[0mretcode\u001b[0m \u001b[1;33m=\u001b[0m \u001b[0mcall\u001b[0m\u001b[1;33m(\u001b[0m\u001b[1;33m[\u001b[0m\u001b[1;34m\"ls\"\u001b[0m\u001b[1;33m,\u001b[0m \u001b[1;34m\"-l\"\u001b[0m\u001b[1;33m]\u001b[0m\u001b[1;33m)\u001b[0m\u001b[1;33m\u001b[0m\u001b[1;33m\u001b[0m\u001b[0m\n\u001b[0;32m    338\u001b[0m     \"\"\"\n\u001b[1;32m--> 339\u001b[1;33m     \u001b[1;32mwith\u001b[0m \u001b[0mPopen\u001b[0m\u001b[1;33m(\u001b[0m\u001b[1;33m*\u001b[0m\u001b[0mpopenargs\u001b[0m\u001b[1;33m,\u001b[0m \u001b[1;33m**\u001b[0m\u001b[0mkwargs\u001b[0m\u001b[1;33m)\u001b[0m \u001b[1;32mas\u001b[0m \u001b[0mp\u001b[0m\u001b[1;33m:\u001b[0m\u001b[1;33m\u001b[0m\u001b[1;33m\u001b[0m\u001b[0m\n\u001b[0m\u001b[0;32m    340\u001b[0m         \u001b[1;32mtry\u001b[0m\u001b[1;33m:\u001b[0m\u001b[1;33m\u001b[0m\u001b[1;33m\u001b[0m\u001b[0m\n\u001b[0;32m    341\u001b[0m             \u001b[1;32mreturn\u001b[0m \u001b[0mp\u001b[0m\u001b[1;33m.\u001b[0m\u001b[0mwait\u001b[0m\u001b[1;33m(\u001b[0m\u001b[0mtimeout\u001b[0m\u001b[1;33m=\u001b[0m\u001b[0mtimeout\u001b[0m\u001b[1;33m)\u001b[0m\u001b[1;33m\u001b[0m\u001b[1;33m\u001b[0m\u001b[0m\n",
      "\u001b[1;32m~\\anaconda3\\lib\\subprocess.py\u001b[0m in \u001b[0;36m__init__\u001b[1;34m(self, args, bufsize, executable, stdin, stdout, stderr, preexec_fn, close_fds, shell, cwd, env, universal_newlines, startupinfo, creationflags, restore_signals, start_new_session, pass_fds, encoding, errors, text)\u001b[0m\n\u001b[0;32m    798\u001b[0m                                 \u001b[0mc2pread\u001b[0m\u001b[1;33m,\u001b[0m \u001b[0mc2pwrite\u001b[0m\u001b[1;33m,\u001b[0m\u001b[1;33m\u001b[0m\u001b[1;33m\u001b[0m\u001b[0m\n\u001b[0;32m    799\u001b[0m                                 \u001b[0merrread\u001b[0m\u001b[1;33m,\u001b[0m \u001b[0merrwrite\u001b[0m\u001b[1;33m,\u001b[0m\u001b[1;33m\u001b[0m\u001b[1;33m\u001b[0m\u001b[0m\n\u001b[1;32m--> 800\u001b[1;33m                                 restore_signals, start_new_session)\n\u001b[0m\u001b[0;32m    801\u001b[0m         \u001b[1;32mexcept\u001b[0m\u001b[1;33m:\u001b[0m\u001b[1;33m\u001b[0m\u001b[1;33m\u001b[0m\u001b[0m\n\u001b[0;32m    802\u001b[0m             \u001b[1;31m# Cleanup if the child failed starting.\u001b[0m\u001b[1;33m\u001b[0m\u001b[1;33m\u001b[0m\u001b[1;33m\u001b[0m\u001b[0m\n",
      "\u001b[1;32m~\\anaconda3\\lib\\subprocess.py\u001b[0m in \u001b[0;36m_execute_child\u001b[1;34m(self, args, executable, preexec_fn, close_fds, pass_fds, cwd, env, startupinfo, creationflags, shell, p2cread, p2cwrite, c2pread, c2pwrite, errread, errwrite, unused_restore_signals, unused_start_new_session)\u001b[0m\n\u001b[0;32m   1205\u001b[0m                                          \u001b[0menv\u001b[0m\u001b[1;33m,\u001b[0m\u001b[1;33m\u001b[0m\u001b[1;33m\u001b[0m\u001b[0m\n\u001b[0;32m   1206\u001b[0m                                          \u001b[0mos\u001b[0m\u001b[1;33m.\u001b[0m\u001b[0mfspath\u001b[0m\u001b[1;33m(\u001b[0m\u001b[0mcwd\u001b[0m\u001b[1;33m)\u001b[0m \u001b[1;32mif\u001b[0m \u001b[0mcwd\u001b[0m \u001b[1;32mis\u001b[0m \u001b[1;32mnot\u001b[0m \u001b[1;32mNone\u001b[0m \u001b[1;32melse\u001b[0m \u001b[1;32mNone\u001b[0m\u001b[1;33m,\u001b[0m\u001b[1;33m\u001b[0m\u001b[1;33m\u001b[0m\u001b[0m\n\u001b[1;32m-> 1207\u001b[1;33m                                          startupinfo)\n\u001b[0m\u001b[0;32m   1208\u001b[0m             \u001b[1;32mfinally\u001b[0m\u001b[1;33m:\u001b[0m\u001b[1;33m\u001b[0m\u001b[1;33m\u001b[0m\u001b[0m\n\u001b[0;32m   1209\u001b[0m                 \u001b[1;31m# Child is launched. Close the parent's copy of those pipe\u001b[0m\u001b[1;33m\u001b[0m\u001b[1;33m\u001b[0m\u001b[1;33m\u001b[0m\u001b[0m\n",
      "\u001b[1;31mFileNotFoundError\u001b[0m: [WinError 2] The system cannot find the file specified"
     ]
    }
   ],
   "source": [
    "from sklearn.datasets import load_iris\n",
    "iris = load_iris()\n",
    "\n",
    "# Model (can also use single decision tree)\n",
    "from sklearn.ensemble import RandomForestClassifier\n",
    "model = RandomForestClassifier(n_estimators=10)\n",
    "\n",
    "# Train\n",
    "model.fit(iris.data, iris.target)\n",
    "# Extract single tree\n",
    "estimator = model.estimators_[5]\n",
    "\n",
    "from sklearn.tree import export_graphviz\n",
    "# Export as dot file\n",
    "export_graphviz(estimator, out_file='tree.dot', \n",
    "                feature_names = iris.feature_names,\n",
    "                class_names = iris.target_names,\n",
    "                rounded = True, proportion = False, \n",
    "                precision = 2, filled = True)\n",
    "\n",
    "# Convert to png using system command (requires Graphviz)\n",
    "from subprocess import call\n",
    "call(['dot', '-Tpng', 'tree.dot', '-o', 'tree.png', '-Gdpi=600'])\n",
    "\n",
    "# Display in jupyter notebook\n",
    "from IPython.display import Image\n",
    "Image(filename = 'tree.png')"
   ]
  },
  {
   "cell_type": "markdown",
   "metadata": {
    "colab_type": "text",
    "id": "VSnWoCRUSpNY"
   },
   "source": [
    "Notice how each split seperates the data into buckets of similar observations. This is a single tree and a relatively simple classification dataset, but the same method is used in a more complex dataset with greater depth to the trees."
   ]
  },
  {
   "cell_type": "markdown",
   "metadata": {
    "colab_type": "text",
    "id": "tJ2aGPMZB5X8"
   },
   "source": [
    "## Coronavirus\n",
    "Coronavirus disease (COVID-19) is an infectious disease caused by a new virus.\n",
    "The disease causes respiratory illness (like the flu) with symptoms such as a cough, fever, and in more severe cases, difficulty breathing. You can protect yourself by washing your hands frequently, avoiding touching your face, and avoiding close contact (1 meter or 3 feet) with people who are unwell. An outbreak of COVID-19 started in December 2019 and at the time of the creation of this project was continuing to spread throughout the world. Many governments recommended only essential outings to public places and closed most business that do not serve food or sell essential items. An excellent [spatial dashboard](https://www.arcgis.com/apps/opsdashboard/index.html#/bda7594740fd40299423467b48e9ecf6) built by Johns Hopkins shows the daily confirmed cases by country. \n",
    "\n",
    "This case study was designed to drive home the important role that data science plays in real-world situations like this pandemic. This case study uses the Random Forest Classifier and a dataset from the South Korean cases of COVID-19 provided on [Kaggle](https://www.kaggle.com/kimjihoo/coronavirusdataset) to encourage research on this important topic. The goal of the case study is to build a Random Forest Classifier to predict the 'state' of the patient."
   ]
  },
  {
   "cell_type": "markdown",
   "metadata": {
    "colab_type": "text",
    "id": "7PrMkSjBQEMZ"
   },
   "source": [
    "First, please load the needed packages and modules into Python. Next, load the data into a pandas dataframe for ease of use."
   ]
  },
  {
   "cell_type": "code",
   "execution_count": 1,
   "metadata": {
    "colab": {},
    "colab_type": "code",
    "id": "X3EhD-LSB5YI"
   },
   "outputs": [],
   "source": [
    "import os\n",
    "import pandas as pd\n",
    "from datetime import datetime,timedelta\n",
    "import seaborn as sns\n",
    "import matplotlib.pyplot as plt\n",
    "import numpy as np\n",
    "%matplotlib inline\n",
    "import plotly.graph_objects as go\n",
    "from sklearn.experimental import enable_iterative_imputer\n",
    "from sklearn.impute import IterativeImputer\n",
    "from sklearn.ensemble import ExtraTreesRegressor"
   ]
  },
  {
   "cell_type": "code",
   "execution_count": 2,
   "metadata": {
    "colab": {},
    "colab_type": "code",
    "id": "CiJQlTK1SpNd"
   },
   "outputs": [
    {
     "data": {
      "text/html": [
       "<div>\n",
       "<style scoped>\n",
       "    .dataframe tbody tr th:only-of-type {\n",
       "        vertical-align: middle;\n",
       "    }\n",
       "\n",
       "    .dataframe tbody tr th {\n",
       "        vertical-align: top;\n",
       "    }\n",
       "\n",
       "    .dataframe thead th {\n",
       "        text-align: right;\n",
       "    }\n",
       "</style>\n",
       "<table border=\"1\" class=\"dataframe\">\n",
       "  <thead>\n",
       "    <tr style=\"text-align: right;\">\n",
       "      <th></th>\n",
       "      <th>patient_id</th>\n",
       "      <th>global_num</th>\n",
       "      <th>sex</th>\n",
       "      <th>birth_year</th>\n",
       "      <th>age</th>\n",
       "      <th>country</th>\n",
       "      <th>province</th>\n",
       "      <th>city</th>\n",
       "      <th>disease</th>\n",
       "      <th>infection_case</th>\n",
       "      <th>infection_order</th>\n",
       "      <th>infected_by</th>\n",
       "      <th>contact_number</th>\n",
       "      <th>symptom_onset_date</th>\n",
       "      <th>confirmed_date</th>\n",
       "      <th>released_date</th>\n",
       "      <th>deceased_date</th>\n",
       "      <th>state</th>\n",
       "    </tr>\n",
       "  </thead>\n",
       "  <tbody>\n",
       "    <tr>\n",
       "      <th>0</th>\n",
       "      <td>1000000001</td>\n",
       "      <td>2.0</td>\n",
       "      <td>male</td>\n",
       "      <td>1964.0</td>\n",
       "      <td>50s</td>\n",
       "      <td>Korea</td>\n",
       "      <td>Seoul</td>\n",
       "      <td>Gangseo-gu</td>\n",
       "      <td>NaN</td>\n",
       "      <td>overseas inflow</td>\n",
       "      <td>1.0</td>\n",
       "      <td>NaN</td>\n",
       "      <td>75.0</td>\n",
       "      <td>1/22/2020</td>\n",
       "      <td>1/23/2020</td>\n",
       "      <td>2/5/2020</td>\n",
       "      <td>NaN</td>\n",
       "      <td>released</td>\n",
       "    </tr>\n",
       "    <tr>\n",
       "      <th>1</th>\n",
       "      <td>1000000002</td>\n",
       "      <td>5.0</td>\n",
       "      <td>male</td>\n",
       "      <td>1987.0</td>\n",
       "      <td>30s</td>\n",
       "      <td>Korea</td>\n",
       "      <td>Seoul</td>\n",
       "      <td>Jungnang-gu</td>\n",
       "      <td>NaN</td>\n",
       "      <td>overseas inflow</td>\n",
       "      <td>1.0</td>\n",
       "      <td>NaN</td>\n",
       "      <td>31.0</td>\n",
       "      <td>NaN</td>\n",
       "      <td>1/30/2020</td>\n",
       "      <td>3/2/2020</td>\n",
       "      <td>NaN</td>\n",
       "      <td>released</td>\n",
       "    </tr>\n",
       "    <tr>\n",
       "      <th>2</th>\n",
       "      <td>1000000003</td>\n",
       "      <td>6.0</td>\n",
       "      <td>male</td>\n",
       "      <td>1964.0</td>\n",
       "      <td>50s</td>\n",
       "      <td>Korea</td>\n",
       "      <td>Seoul</td>\n",
       "      <td>Jongno-gu</td>\n",
       "      <td>NaN</td>\n",
       "      <td>contact with patient</td>\n",
       "      <td>2.0</td>\n",
       "      <td>2.002000e+09</td>\n",
       "      <td>17.0</td>\n",
       "      <td>NaN</td>\n",
       "      <td>1/30/2020</td>\n",
       "      <td>2/19/2020</td>\n",
       "      <td>NaN</td>\n",
       "      <td>released</td>\n",
       "    </tr>\n",
       "    <tr>\n",
       "      <th>3</th>\n",
       "      <td>1000000004</td>\n",
       "      <td>7.0</td>\n",
       "      <td>male</td>\n",
       "      <td>1991.0</td>\n",
       "      <td>20s</td>\n",
       "      <td>Korea</td>\n",
       "      <td>Seoul</td>\n",
       "      <td>Mapo-gu</td>\n",
       "      <td>NaN</td>\n",
       "      <td>overseas inflow</td>\n",
       "      <td>1.0</td>\n",
       "      <td>NaN</td>\n",
       "      <td>9.0</td>\n",
       "      <td>1/26/2020</td>\n",
       "      <td>1/30/2020</td>\n",
       "      <td>2/15/2020</td>\n",
       "      <td>NaN</td>\n",
       "      <td>released</td>\n",
       "    </tr>\n",
       "    <tr>\n",
       "      <th>4</th>\n",
       "      <td>1000000005</td>\n",
       "      <td>9.0</td>\n",
       "      <td>female</td>\n",
       "      <td>1992.0</td>\n",
       "      <td>20s</td>\n",
       "      <td>Korea</td>\n",
       "      <td>Seoul</td>\n",
       "      <td>Seongbuk-gu</td>\n",
       "      <td>NaN</td>\n",
       "      <td>contact with patient</td>\n",
       "      <td>2.0</td>\n",
       "      <td>1.000000e+09</td>\n",
       "      <td>2.0</td>\n",
       "      <td>NaN</td>\n",
       "      <td>1/31/2020</td>\n",
       "      <td>2/24/2020</td>\n",
       "      <td>NaN</td>\n",
       "      <td>released</td>\n",
       "    </tr>\n",
       "  </tbody>\n",
       "</table>\n",
       "</div>"
      ],
      "text/plain": [
       "   patient_id  global_num     sex  birth_year  age country province  \\\n",
       "0  1000000001         2.0    male      1964.0  50s   Korea    Seoul   \n",
       "1  1000000002         5.0    male      1987.0  30s   Korea    Seoul   \n",
       "2  1000000003         6.0    male      1964.0  50s   Korea    Seoul   \n",
       "3  1000000004         7.0    male      1991.0  20s   Korea    Seoul   \n",
       "4  1000000005         9.0  female      1992.0  20s   Korea    Seoul   \n",
       "\n",
       "          city disease        infection_case  infection_order   infected_by  \\\n",
       "0   Gangseo-gu     NaN       overseas inflow              1.0           NaN   \n",
       "1  Jungnang-gu     NaN       overseas inflow              1.0           NaN   \n",
       "2    Jongno-gu     NaN  contact with patient              2.0  2.002000e+09   \n",
       "3      Mapo-gu     NaN       overseas inflow              1.0           NaN   \n",
       "4  Seongbuk-gu     NaN  contact with patient              2.0  1.000000e+09   \n",
       "\n",
       "   contact_number symptom_onset_date confirmed_date released_date  \\\n",
       "0            75.0          1/22/2020      1/23/2020      2/5/2020   \n",
       "1            31.0                NaN      1/30/2020      3/2/2020   \n",
       "2            17.0                NaN      1/30/2020     2/19/2020   \n",
       "3             9.0          1/26/2020      1/30/2020     2/15/2020   \n",
       "4             2.0                NaN      1/31/2020     2/24/2020   \n",
       "\n",
       "  deceased_date     state  \n",
       "0           NaN  released  \n",
       "1           NaN  released  \n",
       "2           NaN  released  \n",
       "3           NaN  released  \n",
       "4           NaN  released  "
      ]
     },
     "execution_count": 2,
     "metadata": {},
     "output_type": "execute_result"
    }
   ],
   "source": [
    "url ='PatientInfo.csv'\n",
    "df = pd.read_csv(url)\n",
    "df.head()"
   ]
  },
  {
   "cell_type": "code",
   "execution_count": 3,
   "metadata": {
    "colab": {},
    "colab_type": "code",
    "id": "GUY5Cp2cSpNg"
   },
   "outputs": [
    {
     "data": {
      "text/plain": [
       "(2218, 18)"
      ]
     },
     "execution_count": 3,
     "metadata": {},
     "output_type": "execute_result"
    }
   ],
   "source": [
    "df.shape"
   ]
  },
  {
   "cell_type": "code",
   "execution_count": 4,
   "metadata": {
    "colab": {},
    "colab_type": "code",
    "id": "oxKUKR_pSpNi"
   },
   "outputs": [
    {
     "data": {
      "text/html": [
       "<div>\n",
       "<style scoped>\n",
       "    .dataframe tbody tr th:only-of-type {\n",
       "        vertical-align: middle;\n",
       "    }\n",
       "\n",
       "    .dataframe tbody tr th {\n",
       "        vertical-align: top;\n",
       "    }\n",
       "\n",
       "    .dataframe thead th {\n",
       "        text-align: right;\n",
       "    }\n",
       "</style>\n",
       "<table border=\"1\" class=\"dataframe\">\n",
       "  <thead>\n",
       "    <tr style=\"text-align: right;\">\n",
       "      <th></th>\n",
       "      <th>VarName</th>\n",
       "      <th>NullCount</th>\n",
       "    </tr>\n",
       "  </thead>\n",
       "  <tbody>\n",
       "    <tr>\n",
       "      <th>0</th>\n",
       "      <td>disease</td>\n",
       "      <td>2199</td>\n",
       "    </tr>\n",
       "    <tr>\n",
       "      <th>1</th>\n",
       "      <td>deceased_date</td>\n",
       "      <td>2186</td>\n",
       "    </tr>\n",
       "    <tr>\n",
       "      <th>2</th>\n",
       "      <td>infection_order</td>\n",
       "      <td>2176</td>\n",
       "    </tr>\n",
       "    <tr>\n",
       "      <th>3</th>\n",
       "      <td>symptom_onset_date</td>\n",
       "      <td>2025</td>\n",
       "    </tr>\n",
       "    <tr>\n",
       "      <th>4</th>\n",
       "      <td>released_date</td>\n",
       "      <td>1995</td>\n",
       "    </tr>\n",
       "    <tr>\n",
       "      <th>5</th>\n",
       "      <td>contact_number</td>\n",
       "      <td>1807</td>\n",
       "    </tr>\n",
       "    <tr>\n",
       "      <th>6</th>\n",
       "      <td>infected_by</td>\n",
       "      <td>1749</td>\n",
       "    </tr>\n",
       "    <tr>\n",
       "      <th>7</th>\n",
       "      <td>infection_case</td>\n",
       "      <td>1055</td>\n",
       "    </tr>\n",
       "    <tr>\n",
       "      <th>8</th>\n",
       "      <td>global_num</td>\n",
       "      <td>904</td>\n",
       "    </tr>\n",
       "    <tr>\n",
       "      <th>9</th>\n",
       "      <td>birth_year</td>\n",
       "      <td>454</td>\n",
       "    </tr>\n",
       "    <tr>\n",
       "      <th>10</th>\n",
       "      <td>age</td>\n",
       "      <td>261</td>\n",
       "    </tr>\n",
       "    <tr>\n",
       "      <th>11</th>\n",
       "      <td>sex</td>\n",
       "      <td>145</td>\n",
       "    </tr>\n",
       "    <tr>\n",
       "      <th>12</th>\n",
       "      <td>confirmed_date</td>\n",
       "      <td>141</td>\n",
       "    </tr>\n",
       "    <tr>\n",
       "      <th>13</th>\n",
       "      <td>state</td>\n",
       "      <td>88</td>\n",
       "    </tr>\n",
       "    <tr>\n",
       "      <th>14</th>\n",
       "      <td>city</td>\n",
       "      <td>65</td>\n",
       "    </tr>\n",
       "  </tbody>\n",
       "</table>\n",
       "</div>"
      ],
      "text/plain": [
       "               VarName  NullCount\n",
       "0              disease       2199\n",
       "1        deceased_date       2186\n",
       "2      infection_order       2176\n",
       "3   symptom_onset_date       2025\n",
       "4        released_date       1995\n",
       "5       contact_number       1807\n",
       "6          infected_by       1749\n",
       "7       infection_case       1055\n",
       "8           global_num        904\n",
       "9           birth_year        454\n",
       "10                 age        261\n",
       "11                 sex        145\n",
       "12      confirmed_date        141\n",
       "13               state         88\n",
       "14                city         65"
      ]
     },
     "execution_count": 4,
     "metadata": {},
     "output_type": "execute_result"
    }
   ],
   "source": [
    "#Counts of null values \n",
    "na_df=pd.DataFrame(df.isnull().sum().sort_values(ascending=False)).reset_index()\n",
    "na_df.columns = ['VarName', 'NullCount']\n",
    "na_df[(na_df['NullCount']>0)]"
   ]
  },
  {
   "cell_type": "code",
   "execution_count": 5,
   "metadata": {
    "colab": {},
    "colab_type": "code",
    "id": "NhPtmRWdSpNl"
   },
   "outputs": [
    {
     "data": {
      "text/plain": [
       "isolated    1791\n",
       "released     307\n",
       "deceased      32\n",
       "Name: state, dtype: int64"
      ]
     },
     "execution_count": 5,
     "metadata": {},
     "output_type": "execute_result"
    }
   ],
   "source": [
    "#counts of response variable values\n",
    "df.state.value_counts()"
   ]
  },
  {
   "cell_type": "markdown",
   "metadata": {
    "colab_type": "text",
    "id": "06e0gqMzSpNp"
   },
   "source": [
    " **<font color='teal'> Create a new column named 'n_age' which is the calculated age based on the birth year column.</font>**"
   ]
  },
  {
   "cell_type": "code",
   "execution_count": 6,
   "metadata": {
    "colab": {},
    "colab_type": "code",
    "id": "DVCW7LBRSpNp"
   },
   "outputs": [],
   "source": [
    "df['n_age'] = (2020 - df['birth_year'])"
   ]
  },
  {
   "cell_type": "code",
   "execution_count": 7,
   "metadata": {},
   "outputs": [
    {
     "data": {
      "text/plain": [
       "96"
      ]
     },
     "execution_count": 7,
     "metadata": {},
     "output_type": "execute_result"
    }
   ],
   "source": [
    "df['n_age'].nunique()"
   ]
  },
  {
   "cell_type": "code",
   "execution_count": 8,
   "metadata": {},
   "outputs": [
    {
     "data": {
      "text/plain": [
       "0    56.0\n",
       "1    33.0\n",
       "2    56.0\n",
       "3    29.0\n",
       "4    28.0\n",
       "Name: n_age, dtype: float64"
      ]
     },
     "execution_count": 8,
     "metadata": {},
     "output_type": "execute_result"
    }
   ],
   "source": [
    "df['n_age'].head()"
   ]
  },
  {
   "cell_type": "markdown",
   "metadata": {
    "colab_type": "text",
    "id": "w9t91IzDSpNr"
   },
   "source": [
    "### Handle Missing Values"
   ]
  },
  {
   "cell_type": "markdown",
   "metadata": {
    "colab_type": "text",
    "id": "Fm1TjGDhSpNs"
   },
   "source": [
    " **<font color='teal'> Print the number of missing values by column.</font>**"
   ]
  },
  {
   "cell_type": "code",
   "execution_count": 9,
   "metadata": {
    "colab": {},
    "colab_type": "code",
    "id": "PAtr2t3rSpNs"
   },
   "outputs": [
    {
     "data": {
      "text/plain": [
       "patient_id               0\n",
       "global_num             904\n",
       "sex                    145\n",
       "birth_year             454\n",
       "age                    261\n",
       "country                  0\n",
       "province                 0\n",
       "city                    65\n",
       "disease               2199\n",
       "infection_case        1055\n",
       "infection_order       2176\n",
       "infected_by           1749\n",
       "contact_number        1807\n",
       "symptom_onset_date    2025\n",
       "confirmed_date         141\n",
       "released_date         1995\n",
       "deceased_date         2186\n",
       "state                   88\n",
       "n_age                  454\n",
       "dtype: int64"
      ]
     },
     "execution_count": 9,
     "metadata": {},
     "output_type": "execute_result"
    }
   ],
   "source": [
    "df.isnull().sum()"
   ]
  },
  {
   "cell_type": "code",
   "execution_count": 10,
   "metadata": {
    "colab": {},
    "colab_type": "code",
    "id": "I8B5cY19SpNu"
   },
   "outputs": [
    {
     "name": "stdout",
     "output_type": "stream",
     "text": [
      "<class 'pandas.core.frame.DataFrame'>\n",
      "RangeIndex: 2218 entries, 0 to 2217\n",
      "Data columns (total 19 columns):\n",
      " #   Column              Non-Null Count  Dtype  \n",
      "---  ------              --------------  -----  \n",
      " 0   patient_id          2218 non-null   int64  \n",
      " 1   global_num          1314 non-null   float64\n",
      " 2   sex                 2073 non-null   object \n",
      " 3   birth_year          1764 non-null   float64\n",
      " 4   age                 1957 non-null   object \n",
      " 5   country             2218 non-null   object \n",
      " 6   province            2218 non-null   object \n",
      " 7   city                2153 non-null   object \n",
      " 8   disease             19 non-null     object \n",
      " 9   infection_case      1163 non-null   object \n",
      " 10  infection_order     42 non-null     float64\n",
      " 11  infected_by         469 non-null    float64\n",
      " 12  contact_number      411 non-null    float64\n",
      " 13  symptom_onset_date  193 non-null    object \n",
      " 14  confirmed_date      2077 non-null   object \n",
      " 15  released_date       223 non-null    object \n",
      " 16  deceased_date       32 non-null     object \n",
      " 17  state               2130 non-null   object \n",
      " 18  n_age               1764 non-null   float64\n",
      "dtypes: float64(6), int64(1), object(12)\n",
      "memory usage: 329.4+ KB\n"
     ]
    }
   ],
   "source": [
    "df.info()"
   ]
  },
  {
   "cell_type": "markdown",
   "metadata": {
    "colab_type": "text",
    "id": "zjLpYG_ASpNw"
   },
   "source": [
    " **<font color='teal'> Fill the 'disease' missing values with 0 and remap the True values to 1.</font>**"
   ]
  },
  {
   "cell_type": "code",
   "execution_count": 11,
   "metadata": {
    "colab": {},
    "colab_type": "code",
    "id": "NHBtVW1ESpNx"
   },
   "outputs": [
    {
     "data": {
      "text/plain": [
       "array([0, 1], dtype=int64)"
      ]
     },
     "execution_count": 11,
     "metadata": {},
     "output_type": "execute_result"
    }
   ],
   "source": [
    "df['disease'].fillna(0, inplace=True)\n",
    "df['disease'] = df['disease'].replace([True], 1)\n",
    "df['disease'].unique()"
   ]
  },
  {
   "cell_type": "markdown",
   "metadata": {
    "colab_type": "text",
    "id": "fZArBBUhSpNz"
   },
   "source": [
    " **<font color='teal'> Fill null values in the following columns with their mean: 'global_number','birth_year','infection_order','infected_by'and 'contact_number'</font>**"
   ]
  },
  {
   "cell_type": "code",
   "execution_count": 12,
   "metadata": {
    "colab": {},
    "colab_type": "code",
    "id": "zQdarDx_SpNz"
   },
   "outputs": [],
   "source": [
    "df['global_num'] = df['global_num'].fillna(df['global_num'].mean())\n",
    "df['birth_year'] = df['birth_year'].fillna(df['birth_year'].mean())\n",
    "df['infection_order'] = df['infection_order'].fillna(df['infection_order'].mean())\n",
    "df['infected_by'] = df['infected_by'].fillna(df['infected_by'].mean())\n",
    "df['contact_number'] = df['contact_number'].fillna(df['contact_number'].mean())"
   ]
  },
  {
   "cell_type": "code",
   "execution_count": 13,
   "metadata": {},
   "outputs": [
    {
     "data": {
      "text/plain": [
       "patient_id               0\n",
       "global_num               0\n",
       "sex                    145\n",
       "birth_year               0\n",
       "age                    261\n",
       "country                  0\n",
       "province                 0\n",
       "city                    65\n",
       "disease                  0\n",
       "infection_case        1055\n",
       "infection_order          0\n",
       "infected_by              0\n",
       "contact_number           0\n",
       "symptom_onset_date    2025\n",
       "confirmed_date         141\n",
       "released_date         1995\n",
       "deceased_date         2186\n",
       "state                   88\n",
       "n_age                  454\n",
       "dtype: int64"
      ]
     },
     "execution_count": 13,
     "metadata": {},
     "output_type": "execute_result"
    }
   ],
   "source": [
    "df.isnull().sum()"
   ]
  },
  {
   "cell_type": "markdown",
   "metadata": {
    "colab_type": "text",
    "id": "Coy_jYEbSpN2"
   },
   "source": [
    " **<font color='teal'> Fill the rest of the missing values with any method.</font>**"
   ]
  },
  {
   "cell_type": "code",
   "execution_count": 14,
   "metadata": {
    "colab": {},
    "colab_type": "code",
    "id": "ATJ84cdDSpN2"
   },
   "outputs": [],
   "source": [
    "df['sex'] = df['sex'].fillna('Unknown')"
   ]
  },
  {
   "cell_type": "code",
   "execution_count": 15,
   "metadata": {},
   "outputs": [],
   "source": [
    "df['age'] = df['age'].fillna('Unknown')\n",
    "df['city'] = df['city'].fillna('Unknown')"
   ]
  },
  {
   "cell_type": "code",
   "execution_count": 16,
   "metadata": {},
   "outputs": [
    {
     "data": {
      "text/plain": [
       "0            overseas inflow\n",
       "1            overseas inflow\n",
       "2       contact with patient\n",
       "3            overseas inflow\n",
       "4       contact with patient\n",
       "                ...         \n",
       "2213                     NaN\n",
       "2214                     etc\n",
       "2215                     etc\n",
       "2216                     etc\n",
       "2217                     etc\n",
       "Name: infection_case, Length: 2218, dtype: object"
      ]
     },
     "execution_count": 16,
     "metadata": {},
     "output_type": "execute_result"
    }
   ],
   "source": [
    "df.infection_case"
   ]
  },
  {
   "cell_type": "code",
   "execution_count": 17,
   "metadata": {},
   "outputs": [],
   "source": [
    "df['infection_case'] = df['infection_case'].fillna('unknown')"
   ]
  },
  {
   "cell_type": "code",
   "execution_count": 18,
   "metadata": {},
   "outputs": [
    {
     "data": {
      "text/plain": [
       "0       released\n",
       "1       released\n",
       "2       released\n",
       "3       released\n",
       "4       released\n",
       "          ...   \n",
       "2213         NaN\n",
       "2214    isolated\n",
       "2215    released\n",
       "2216    released\n",
       "2217    isolated\n",
       "Name: state, Length: 2218, dtype: object"
      ]
     },
     "execution_count": 18,
     "metadata": {},
     "output_type": "execute_result"
    }
   ],
   "source": [
    "df.state"
   ]
  },
  {
   "cell_type": "code",
   "execution_count": 19,
   "metadata": {},
   "outputs": [],
   "source": [
    "df['state'] = df['state'].fillna('unknown')"
   ]
  },
  {
   "cell_type": "code",
   "execution_count": 20,
   "metadata": {},
   "outputs": [],
   "source": [
    "df['n_age'] = df['n_age'].fillna(df['n_age'].mean())"
   ]
  },
  {
   "cell_type": "code",
   "execution_count": 21,
   "metadata": {},
   "outputs": [
    {
     "data": {
      "text/plain": [
       "patient_id              int64\n",
       "global_num            float64\n",
       "sex                    object\n",
       "birth_year            float64\n",
       "age                    object\n",
       "country                object\n",
       "province               object\n",
       "city                   object\n",
       "disease                 int64\n",
       "infection_case         object\n",
       "infection_order       float64\n",
       "infected_by           float64\n",
       "contact_number        float64\n",
       "symptom_onset_date     object\n",
       "confirmed_date         object\n",
       "released_date          object\n",
       "deceased_date          object\n",
       "state                  object\n",
       "n_age                 float64\n",
       "dtype: object"
      ]
     },
     "execution_count": 21,
     "metadata": {},
     "output_type": "execute_result"
    }
   ],
   "source": [
    "df.dtypes"
   ]
  },
  {
   "cell_type": "markdown",
   "metadata": {
    "colab_type": "text",
    "id": "kGi4NkcbSpN4"
   },
   "source": [
    " **<font color='teal'> Check for any remaining null values.</font>**"
   ]
  },
  {
   "cell_type": "code",
   "execution_count": 22,
   "metadata": {
    "colab": {},
    "colab_type": "code",
    "id": "82lVA3vUSpN5"
   },
   "outputs": [
    {
     "data": {
      "text/plain": [
       "patient_id               0\n",
       "global_num               0\n",
       "sex                      0\n",
       "birth_year               0\n",
       "age                      0\n",
       "country                  0\n",
       "province                 0\n",
       "city                     0\n",
       "disease                  0\n",
       "infection_case           0\n",
       "infection_order          0\n",
       "infected_by              0\n",
       "contact_number           0\n",
       "symptom_onset_date    2025\n",
       "confirmed_date         141\n",
       "released_date         1995\n",
       "deceased_date         2186\n",
       "state                    0\n",
       "n_age                    0\n",
       "dtype: int64"
      ]
     },
     "execution_count": 22,
     "metadata": {},
     "output_type": "execute_result"
    }
   ],
   "source": [
    "df.isnull().sum()"
   ]
  },
  {
   "cell_type": "code",
   "execution_count": 23,
   "metadata": {
    "colab": {},
    "colab_type": "code",
    "id": "55CJRFKtSpN7"
   },
   "outputs": [
    {
     "data": {
      "text/html": [
       "<div>\n",
       "<style scoped>\n",
       "    .dataframe tbody tr th:only-of-type {\n",
       "        vertical-align: middle;\n",
       "    }\n",
       "\n",
       "    .dataframe tbody tr th {\n",
       "        vertical-align: top;\n",
       "    }\n",
       "\n",
       "    .dataframe thead th {\n",
       "        text-align: right;\n",
       "    }\n",
       "</style>\n",
       "<table border=\"1\" class=\"dataframe\">\n",
       "  <thead>\n",
       "    <tr style=\"text-align: right;\">\n",
       "      <th></th>\n",
       "      <th>patient_id</th>\n",
       "      <th>global_num</th>\n",
       "      <th>sex</th>\n",
       "      <th>birth_year</th>\n",
       "      <th>age</th>\n",
       "      <th>country</th>\n",
       "      <th>province</th>\n",
       "      <th>city</th>\n",
       "      <th>disease</th>\n",
       "      <th>infection_case</th>\n",
       "      <th>infection_order</th>\n",
       "      <th>infected_by</th>\n",
       "      <th>contact_number</th>\n",
       "      <th>symptom_onset_date</th>\n",
       "      <th>confirmed_date</th>\n",
       "      <th>released_date</th>\n",
       "      <th>deceased_date</th>\n",
       "      <th>state</th>\n",
       "      <th>n_age</th>\n",
       "    </tr>\n",
       "  </thead>\n",
       "  <tbody>\n",
       "    <tr>\n",
       "      <th>0</th>\n",
       "      <td>1000000001</td>\n",
       "      <td>2.0</td>\n",
       "      <td>male</td>\n",
       "      <td>1964.0</td>\n",
       "      <td>50s</td>\n",
       "      <td>Korea</td>\n",
       "      <td>Seoul</td>\n",
       "      <td>Gangseo-gu</td>\n",
       "      <td>0</td>\n",
       "      <td>overseas inflow</td>\n",
       "      <td>1.0</td>\n",
       "      <td>2.600789e+09</td>\n",
       "      <td>75.0</td>\n",
       "      <td>1/22/2020</td>\n",
       "      <td>1/23/2020</td>\n",
       "      <td>2/5/2020</td>\n",
       "      <td>NaN</td>\n",
       "      <td>released</td>\n",
       "      <td>56.0</td>\n",
       "    </tr>\n",
       "    <tr>\n",
       "      <th>1</th>\n",
       "      <td>1000000002</td>\n",
       "      <td>5.0</td>\n",
       "      <td>male</td>\n",
       "      <td>1987.0</td>\n",
       "      <td>30s</td>\n",
       "      <td>Korea</td>\n",
       "      <td>Seoul</td>\n",
       "      <td>Jungnang-gu</td>\n",
       "      <td>0</td>\n",
       "      <td>overseas inflow</td>\n",
       "      <td>1.0</td>\n",
       "      <td>2.600789e+09</td>\n",
       "      <td>31.0</td>\n",
       "      <td>NaN</td>\n",
       "      <td>1/30/2020</td>\n",
       "      <td>3/2/2020</td>\n",
       "      <td>NaN</td>\n",
       "      <td>released</td>\n",
       "      <td>33.0</td>\n",
       "    </tr>\n",
       "    <tr>\n",
       "      <th>2</th>\n",
       "      <td>1000000003</td>\n",
       "      <td>6.0</td>\n",
       "      <td>male</td>\n",
       "      <td>1964.0</td>\n",
       "      <td>50s</td>\n",
       "      <td>Korea</td>\n",
       "      <td>Seoul</td>\n",
       "      <td>Jongno-gu</td>\n",
       "      <td>0</td>\n",
       "      <td>contact with patient</td>\n",
       "      <td>2.0</td>\n",
       "      <td>2.002000e+09</td>\n",
       "      <td>17.0</td>\n",
       "      <td>NaN</td>\n",
       "      <td>1/30/2020</td>\n",
       "      <td>2/19/2020</td>\n",
       "      <td>NaN</td>\n",
       "      <td>released</td>\n",
       "      <td>56.0</td>\n",
       "    </tr>\n",
       "    <tr>\n",
       "      <th>3</th>\n",
       "      <td>1000000004</td>\n",
       "      <td>7.0</td>\n",
       "      <td>male</td>\n",
       "      <td>1991.0</td>\n",
       "      <td>20s</td>\n",
       "      <td>Korea</td>\n",
       "      <td>Seoul</td>\n",
       "      <td>Mapo-gu</td>\n",
       "      <td>0</td>\n",
       "      <td>overseas inflow</td>\n",
       "      <td>1.0</td>\n",
       "      <td>2.600789e+09</td>\n",
       "      <td>9.0</td>\n",
       "      <td>1/26/2020</td>\n",
       "      <td>1/30/2020</td>\n",
       "      <td>2/15/2020</td>\n",
       "      <td>NaN</td>\n",
       "      <td>released</td>\n",
       "      <td>29.0</td>\n",
       "    </tr>\n",
       "    <tr>\n",
       "      <th>4</th>\n",
       "      <td>1000000005</td>\n",
       "      <td>9.0</td>\n",
       "      <td>female</td>\n",
       "      <td>1992.0</td>\n",
       "      <td>20s</td>\n",
       "      <td>Korea</td>\n",
       "      <td>Seoul</td>\n",
       "      <td>Seongbuk-gu</td>\n",
       "      <td>0</td>\n",
       "      <td>contact with patient</td>\n",
       "      <td>2.0</td>\n",
       "      <td>1.000000e+09</td>\n",
       "      <td>2.0</td>\n",
       "      <td>NaN</td>\n",
       "      <td>1/31/2020</td>\n",
       "      <td>2/24/2020</td>\n",
       "      <td>NaN</td>\n",
       "      <td>released</td>\n",
       "      <td>28.0</td>\n",
       "    </tr>\n",
       "  </tbody>\n",
       "</table>\n",
       "</div>"
      ],
      "text/plain": [
       "   patient_id  global_num     sex  birth_year  age country province  \\\n",
       "0  1000000001         2.0    male      1964.0  50s   Korea    Seoul   \n",
       "1  1000000002         5.0    male      1987.0  30s   Korea    Seoul   \n",
       "2  1000000003         6.0    male      1964.0  50s   Korea    Seoul   \n",
       "3  1000000004         7.0    male      1991.0  20s   Korea    Seoul   \n",
       "4  1000000005         9.0  female      1992.0  20s   Korea    Seoul   \n",
       "\n",
       "          city  disease        infection_case  infection_order   infected_by  \\\n",
       "0   Gangseo-gu        0       overseas inflow              1.0  2.600789e+09   \n",
       "1  Jungnang-gu        0       overseas inflow              1.0  2.600789e+09   \n",
       "2    Jongno-gu        0  contact with patient              2.0  2.002000e+09   \n",
       "3      Mapo-gu        0       overseas inflow              1.0  2.600789e+09   \n",
       "4  Seongbuk-gu        0  contact with patient              2.0  1.000000e+09   \n",
       "\n",
       "   contact_number symptom_onset_date confirmed_date released_date  \\\n",
       "0            75.0          1/22/2020      1/23/2020      2/5/2020   \n",
       "1            31.0                NaN      1/30/2020      3/2/2020   \n",
       "2            17.0                NaN      1/30/2020     2/19/2020   \n",
       "3             9.0          1/26/2020      1/30/2020     2/15/2020   \n",
       "4             2.0                NaN      1/31/2020     2/24/2020   \n",
       "\n",
       "  deceased_date     state  n_age  \n",
       "0           NaN  released   56.0  \n",
       "1           NaN  released   33.0  \n",
       "2           NaN  released   56.0  \n",
       "3           NaN  released   29.0  \n",
       "4           NaN  released   28.0  "
      ]
     },
     "execution_count": 23,
     "metadata": {},
     "output_type": "execute_result"
    }
   ],
   "source": [
    "df.head()"
   ]
  },
  {
   "cell_type": "markdown",
   "metadata": {
    "colab_type": "text",
    "id": "PK9Jk8KgSpN9"
   },
   "source": [
    "Remove date columns from the data.\n"
   ]
  },
  {
   "cell_type": "code",
   "execution_count": 24,
   "metadata": {
    "colab": {},
    "colab_type": "code",
    "id": "xIbYDncMSpN9"
   },
   "outputs": [],
   "source": [
    "df = df.drop(['symptom_onset_date','confirmed_date','released_date','deceased_date'],axis =1)"
   ]
  },
  {
   "cell_type": "markdown",
   "metadata": {
    "colab_type": "text",
    "id": "RDBxf5ZDB5ZZ"
   },
   "source": [
    "Review the count of unique values by column."
   ]
  },
  {
   "cell_type": "code",
   "execution_count": 25,
   "metadata": {
    "colab": {},
    "colab_type": "code",
    "id": "PIdCkZ4AB5Zf"
   },
   "outputs": [
    {
     "name": "stdout",
     "output_type": "stream",
     "text": [
      "patient_id         2218\n",
      "global_num         1304\n",
      "sex                   3\n",
      "birth_year           97\n",
      "age                  12\n",
      "country               4\n",
      "province             17\n",
      "city                135\n",
      "disease               2\n",
      "infection_case       17\n",
      "infection_order       7\n",
      "infected_by         207\n",
      "contact_number       73\n",
      "state                 4\n",
      "n_age                97\n",
      "dtype: int64\n"
     ]
    }
   ],
   "source": [
    "print(df.nunique())"
   ]
  },
  {
   "cell_type": "markdown",
   "metadata": {
    "colab_type": "text",
    "id": "9oENi5DRB5Zq"
   },
   "source": [
    "Review the percent of unique values by column."
   ]
  },
  {
   "cell_type": "code",
   "execution_count": 26,
   "metadata": {
    "colab": {},
    "colab_type": "code",
    "id": "_IcO33VsB5Zt"
   },
   "outputs": [
    {
     "name": "stdout",
     "output_type": "stream",
     "text": [
      "patient_id         1.000000\n",
      "global_num         0.587917\n",
      "sex                0.001353\n",
      "birth_year         0.043733\n",
      "age                0.005410\n",
      "country            0.001803\n",
      "province           0.007665\n",
      "city               0.060866\n",
      "disease            0.000902\n",
      "infection_case     0.007665\n",
      "infection_order    0.003156\n",
      "infected_by        0.093327\n",
      "contact_number     0.032913\n",
      "state              0.001803\n",
      "n_age              0.043733\n",
      "dtype: float64\n"
     ]
    }
   ],
   "source": [
    "print(df.nunique()/df.shape[0])"
   ]
  },
  {
   "cell_type": "markdown",
   "metadata": {
    "colab_type": "text",
    "id": "rCZHVugqB5Z4"
   },
   "source": [
    "Review the range of values per column."
   ]
  },
  {
   "cell_type": "code",
   "execution_count": 27,
   "metadata": {
    "colab": {},
    "colab_type": "code",
    "id": "Y3zLsGxMB5Z5"
   },
   "outputs": [
    {
     "data": {
      "text/html": [
       "<div>\n",
       "<style scoped>\n",
       "    .dataframe tbody tr th:only-of-type {\n",
       "        vertical-align: middle;\n",
       "    }\n",
       "\n",
       "    .dataframe tbody tr th {\n",
       "        vertical-align: top;\n",
       "    }\n",
       "\n",
       "    .dataframe thead th {\n",
       "        text-align: right;\n",
       "    }\n",
       "</style>\n",
       "<table border=\"1\" class=\"dataframe\">\n",
       "  <thead>\n",
       "    <tr style=\"text-align: right;\">\n",
       "      <th></th>\n",
       "      <th>count</th>\n",
       "      <th>mean</th>\n",
       "      <th>std</th>\n",
       "      <th>min</th>\n",
       "      <th>25%</th>\n",
       "      <th>50%</th>\n",
       "      <th>75%</th>\n",
       "      <th>max</th>\n",
       "    </tr>\n",
       "  </thead>\n",
       "  <tbody>\n",
       "    <tr>\n",
       "      <th>patient_id</th>\n",
       "      <td>2218.0</td>\n",
       "      <td>4.014678e+09</td>\n",
       "      <td>2.192419e+09</td>\n",
       "      <td>1.000000e+09</td>\n",
       "      <td>1.700000e+09</td>\n",
       "      <td>6.001000e+09</td>\n",
       "      <td>6.004000e+09</td>\n",
       "      <td>7.000000e+09</td>\n",
       "    </tr>\n",
       "    <tr>\n",
       "      <th>global_num</th>\n",
       "      <td>2218.0</td>\n",
       "      <td>4.664817e+03</td>\n",
       "      <td>2.211785e+03</td>\n",
       "      <td>1.000000e+00</td>\n",
       "      <td>4.205250e+03</td>\n",
       "      <td>4.664817e+03</td>\n",
       "      <td>5.900250e+03</td>\n",
       "      <td>8.717000e+03</td>\n",
       "    </tr>\n",
       "    <tr>\n",
       "      <th>birth_year</th>\n",
       "      <td>2218.0</td>\n",
       "      <td>1.974989e+03</td>\n",
       "      <td>1.731123e+01</td>\n",
       "      <td>1.916000e+03</td>\n",
       "      <td>1.965000e+03</td>\n",
       "      <td>1.974989e+03</td>\n",
       "      <td>1.988000e+03</td>\n",
       "      <td>2.020000e+03</td>\n",
       "    </tr>\n",
       "    <tr>\n",
       "      <th>disease</th>\n",
       "      <td>2218.0</td>\n",
       "      <td>8.566276e-03</td>\n",
       "      <td>9.217769e-02</td>\n",
       "      <td>0.000000e+00</td>\n",
       "      <td>0.000000e+00</td>\n",
       "      <td>0.000000e+00</td>\n",
       "      <td>0.000000e+00</td>\n",
       "      <td>1.000000e+00</td>\n",
       "    </tr>\n",
       "    <tr>\n",
       "      <th>infection_order</th>\n",
       "      <td>2218.0</td>\n",
       "      <td>2.285714e+00</td>\n",
       "      <td>1.706622e-01</td>\n",
       "      <td>1.000000e+00</td>\n",
       "      <td>2.285714e+00</td>\n",
       "      <td>2.285714e+00</td>\n",
       "      <td>2.285714e+00</td>\n",
       "      <td>6.000000e+00</td>\n",
       "    </tr>\n",
       "    <tr>\n",
       "      <th>infected_by</th>\n",
       "      <td>2218.0</td>\n",
       "      <td>2.600789e+09</td>\n",
       "      <td>7.216328e+08</td>\n",
       "      <td>1.000000e+09</td>\n",
       "      <td>2.600789e+09</td>\n",
       "      <td>2.600789e+09</td>\n",
       "      <td>2.600789e+09</td>\n",
       "      <td>6.113000e+09</td>\n",
       "    </tr>\n",
       "    <tr>\n",
       "      <th>contact_number</th>\n",
       "      <td>2218.0</td>\n",
       "      <td>2.412895e+01</td>\n",
       "      <td>3.917141e+01</td>\n",
       "      <td>0.000000e+00</td>\n",
       "      <td>2.412895e+01</td>\n",
       "      <td>2.412895e+01</td>\n",
       "      <td>2.412895e+01</td>\n",
       "      <td>1.160000e+03</td>\n",
       "    </tr>\n",
       "    <tr>\n",
       "      <th>n_age</th>\n",
       "      <td>2218.0</td>\n",
       "      <td>4.501134e+01</td>\n",
       "      <td>1.731123e+01</td>\n",
       "      <td>0.000000e+00</td>\n",
       "      <td>3.200000e+01</td>\n",
       "      <td>4.501134e+01</td>\n",
       "      <td>5.500000e+01</td>\n",
       "      <td>1.040000e+02</td>\n",
       "    </tr>\n",
       "  </tbody>\n",
       "</table>\n",
       "</div>"
      ],
      "text/plain": [
       "                  count          mean           std           min  \\\n",
       "patient_id       2218.0  4.014678e+09  2.192419e+09  1.000000e+09   \n",
       "global_num       2218.0  4.664817e+03  2.211785e+03  1.000000e+00   \n",
       "birth_year       2218.0  1.974989e+03  1.731123e+01  1.916000e+03   \n",
       "disease          2218.0  8.566276e-03  9.217769e-02  0.000000e+00   \n",
       "infection_order  2218.0  2.285714e+00  1.706622e-01  1.000000e+00   \n",
       "infected_by      2218.0  2.600789e+09  7.216328e+08  1.000000e+09   \n",
       "contact_number   2218.0  2.412895e+01  3.917141e+01  0.000000e+00   \n",
       "n_age            2218.0  4.501134e+01  1.731123e+01  0.000000e+00   \n",
       "\n",
       "                          25%           50%           75%           max  \n",
       "patient_id       1.700000e+09  6.001000e+09  6.004000e+09  7.000000e+09  \n",
       "global_num       4.205250e+03  4.664817e+03  5.900250e+03  8.717000e+03  \n",
       "birth_year       1.965000e+03  1.974989e+03  1.988000e+03  2.020000e+03  \n",
       "disease          0.000000e+00  0.000000e+00  0.000000e+00  1.000000e+00  \n",
       "infection_order  2.285714e+00  2.285714e+00  2.285714e+00  6.000000e+00  \n",
       "infected_by      2.600789e+09  2.600789e+09  2.600789e+09  6.113000e+09  \n",
       "contact_number   2.412895e+01  2.412895e+01  2.412895e+01  1.160000e+03  \n",
       "n_age            3.200000e+01  4.501134e+01  5.500000e+01  1.040000e+02  "
      ]
     },
     "execution_count": 27,
     "metadata": {},
     "output_type": "execute_result"
    }
   ],
   "source": [
    "df.describe().T"
   ]
  },
  {
   "cell_type": "markdown",
   "metadata": {
    "colab_type": "text",
    "id": "AEBFq3hmB5aN"
   },
   "source": [
    "### Check for duplicated rows"
   ]
  },
  {
   "cell_type": "code",
   "execution_count": 28,
   "metadata": {
    "colab": {},
    "colab_type": "code",
    "id": "s9KGFCpkB5aP"
   },
   "outputs": [
    {
     "data": {
      "text/html": [
       "<div>\n",
       "<style scoped>\n",
       "    .dataframe tbody tr th:only-of-type {\n",
       "        vertical-align: middle;\n",
       "    }\n",
       "\n",
       "    .dataframe tbody tr th {\n",
       "        vertical-align: top;\n",
       "    }\n",
       "\n",
       "    .dataframe thead th {\n",
       "        text-align: right;\n",
       "    }\n",
       "</style>\n",
       "<table border=\"1\" class=\"dataframe\">\n",
       "  <thead>\n",
       "    <tr style=\"text-align: right;\">\n",
       "      <th></th>\n",
       "      <th>patient_id</th>\n",
       "      <th>global_num</th>\n",
       "      <th>sex</th>\n",
       "      <th>birth_year</th>\n",
       "      <th>age</th>\n",
       "      <th>country</th>\n",
       "      <th>province</th>\n",
       "      <th>city</th>\n",
       "      <th>disease</th>\n",
       "      <th>infection_case</th>\n",
       "      <th>infection_order</th>\n",
       "      <th>infected_by</th>\n",
       "      <th>contact_number</th>\n",
       "      <th>state</th>\n",
       "      <th>n_age</th>\n",
       "    </tr>\n",
       "  </thead>\n",
       "  <tbody>\n",
       "  </tbody>\n",
       "</table>\n",
       "</div>"
      ],
      "text/plain": [
       "Empty DataFrame\n",
       "Columns: [patient_id, global_num, sex, birth_year, age, country, province, city, disease, infection_case, infection_order, infected_by, contact_number, state, n_age]\n",
       "Index: []"
      ]
     },
     "execution_count": 28,
     "metadata": {},
     "output_type": "execute_result"
    }
   ],
   "source": [
    "duplicateRowsDF = df[df.duplicated()]\n",
    "duplicateRowsDF"
   ]
  },
  {
   "cell_type": "markdown",
   "metadata": {
    "colab_type": "text",
    "id": "8WOrbEk1SpOH"
   },
   "source": [
    "Print the categorical columns and their associated levels."
   ]
  },
  {
   "cell_type": "code",
   "execution_count": 29,
   "metadata": {
    "colab": {},
    "colab_type": "code",
    "id": "8QTm6RuRSpOH"
   },
   "outputs": [
    {
     "data": {
      "text/html": [
       "<div>\n",
       "<style scoped>\n",
       "    .dataframe tbody tr th:only-of-type {\n",
       "        vertical-align: middle;\n",
       "    }\n",
       "\n",
       "    .dataframe tbody tr th {\n",
       "        vertical-align: top;\n",
       "    }\n",
       "\n",
       "    .dataframe thead th {\n",
       "        text-align: right;\n",
       "    }\n",
       "</style>\n",
       "<table border=\"1\" class=\"dataframe\">\n",
       "  <thead>\n",
       "    <tr style=\"text-align: right;\">\n",
       "      <th></th>\n",
       "      <th>VarName</th>\n",
       "      <th>LevelsCount</th>\n",
       "    </tr>\n",
       "  </thead>\n",
       "  <tbody>\n",
       "    <tr>\n",
       "      <th>0</th>\n",
       "      <td>sex</td>\n",
       "      <td>3</td>\n",
       "    </tr>\n",
       "    <tr>\n",
       "      <th>1</th>\n",
       "      <td>age</td>\n",
       "      <td>12</td>\n",
       "    </tr>\n",
       "    <tr>\n",
       "      <th>2</th>\n",
       "      <td>country</td>\n",
       "      <td>4</td>\n",
       "    </tr>\n",
       "    <tr>\n",
       "      <th>3</th>\n",
       "      <td>province</td>\n",
       "      <td>17</td>\n",
       "    </tr>\n",
       "    <tr>\n",
       "      <th>4</th>\n",
       "      <td>city</td>\n",
       "      <td>135</td>\n",
       "    </tr>\n",
       "    <tr>\n",
       "      <th>5</th>\n",
       "      <td>infection_case</td>\n",
       "      <td>17</td>\n",
       "    </tr>\n",
       "    <tr>\n",
       "      <th>6</th>\n",
       "      <td>state</td>\n",
       "      <td>4</td>\n",
       "    </tr>\n",
       "  </tbody>\n",
       "</table>\n",
       "</div>"
      ],
      "text/plain": [
       "          VarName  LevelsCount\n",
       "0             sex            3\n",
       "1             age           12\n",
       "2         country            4\n",
       "3        province           17\n",
       "4            city          135\n",
       "5  infection_case           17\n",
       "6           state            4"
      ]
     },
     "execution_count": 29,
     "metadata": {},
     "output_type": "execute_result"
    }
   ],
   "source": [
    "dfo = df.select_dtypes(include=['object'], exclude=['datetime'])\n",
    "dfo.shape\n",
    "#get levels for all variables\n",
    "vn = pd.DataFrame(dfo.nunique()).reset_index()\n",
    "vn.columns = ['VarName', 'LevelsCount']\n",
    "vn.sort_values(by='LevelsCount', ascending =False)\n",
    "vn"
   ]
  },
  {
   "cell_type": "markdown",
   "metadata": {
    "colab_type": "text",
    "id": "a43l6w_uSpOJ"
   },
   "source": [
    "**<font color='teal'> Plot the correlation heat map for the features.</font>**"
   ]
  },
  {
   "cell_type": "code",
   "execution_count": 30,
   "metadata": {
    "colab": {},
    "colab_type": "code",
    "id": "ZRJlPqV5B5e5",
    "scrolled": true
   },
   "outputs": [
    {
     "data": {
      "text/plain": [
       "<matplotlib.axes._subplots.AxesSubplot at 0x190d0d41288>"
      ]
     },
     "execution_count": 30,
     "metadata": {},
     "output_type": "execute_result"
    },
    {
     "data": {
      "image/png": "[encoded data removed]",
      "text/plain": [
       "<Figure size 432x288 with 2 Axes>"
      ]
     },
     "metadata": {
      "needs_background": "light"
     },
     "output_type": "display_data"
    }
   ],
   "source": [
    "corr = df.corr()\n",
    "\n",
    "mask = np.triu(np.ones_like(corr, dtype=bool))\n",
    "\n",
    "sns.heatmap(corr, mask = mask)"
   ]
  },
  {
   "cell_type": "markdown",
   "metadata": {
    "colab_type": "text",
    "id": "2KtABW0USpOK"
   },
   "source": [
    "**<font color='teal'> Plot the boxplots to check for outliers. </font>**"
   ]
  },
  {
   "cell_type": "code",
   "execution_count": 31,
   "metadata": {
    "colab": {},
    "colab_type": "code",
    "id": "uYMmU_szB5fZ"
   },
   "outputs": [
    {
     "data": {
      "text/plain": [
       "<matplotlib.axes._subplots.AxesSubplot at 0x190d0f0e9c8>"
      ]
     },
     "execution_count": 31,
     "metadata": {},
     "output_type": "execute_result"
    },
    {
     "data": {
      "image/png": "[encoded data removed]",
      "text/plain": [
       "<Figure size 432x288 with 1 Axes>"
      ]
     },
     "metadata": {
      "needs_background": "light"
     },
     "output_type": "display_data"
    }
   ],
   "source": [
    "df.boxplot()"
   ]
  },
  {
   "cell_type": "markdown",
   "metadata": {
    "colab_type": "text",
    "id": "2Z_NuqkNSpOM"
   },
   "source": [
    "**<font color='teal'> Create dummy features for object type features. </font>**"
   ]
  },
  {
   "cell_type": "code",
   "execution_count": 32,
   "metadata": {},
   "outputs": [
    {
     "data": {
      "text/plain": [
       "patient_id           int64\n",
       "global_num         float64\n",
       "sex                 object\n",
       "birth_year         float64\n",
       "age                 object\n",
       "country             object\n",
       "province            object\n",
       "city                object\n",
       "disease              int64\n",
       "infection_case      object\n",
       "infection_order    float64\n",
       "infected_by        float64\n",
       "contact_number     float64\n",
       "state               object\n",
       "n_age              float64\n",
       "dtype: object"
      ]
     },
     "execution_count": 32,
     "metadata": {},
     "output_type": "execute_result"
    }
   ],
   "source": [
    "df.dtypes"
   ]
  },
  {
   "cell_type": "code",
   "execution_count": 33,
   "metadata": {},
   "outputs": [
    {
     "data": {
      "text/plain": [
       "Index(['patient_id', 'global_num', 'sex', 'birth_year', 'age', 'country',\n",
       "       'province', 'city', 'disease', 'infection_case', 'infection_order',\n",
       "       'infected_by', 'contact_number', 'state', 'n_age'],\n",
       "      dtype='object')"
      ]
     },
     "execution_count": 33,
     "metadata": {},
     "output_type": "execute_result"
    }
   ],
   "source": [
    "df.columns"
   ]
  },
  {
   "cell_type": "code",
   "execution_count": 47,
   "metadata": {},
   "outputs": [],
   "source": [
    "df_dummies = pd.get_dummies(df,columns = ['age','sex', 'country', 'province', 'city', 'infection_case', ])"
   ]
  },
  {
   "cell_type": "code",
   "execution_count": 48,
   "metadata": {},
   "outputs": [],
   "source": [
    "col_names = []\n",
    "\n",
    "for column in df_dummies.columns:\n",
    "    col_names.append(column)"
   ]
  },
  {
   "cell_type": "code",
   "execution_count": 49,
   "metadata": {},
   "outputs": [
    {
     "data": {
      "text/plain": [
       "['patient_id',\n",
       " 'global_num',\n",
       " 'birth_year',\n",
       " 'disease',\n",
       " 'infection_order',\n",
       " 'infected_by',\n",
       " 'contact_number',\n",
       " 'state',\n",
       " 'n_age',\n",
       " 'age_0s',\n",
       " 'age_100s',\n",
       " 'age_10s',\n",
       " 'age_20s',\n",
       " 'age_30s',\n",
       " 'age_40s',\n",
       " 'age_50s',\n",
       " 'age_60s',\n",
       " 'age_70s',\n",
       " 'age_80s',\n",
       " 'age_90s',\n",
       " 'age_Unknown',\n",
       " 'sex_Unknown',\n",
       " 'sex_female',\n",
       " 'sex_male',\n",
       " 'country_China',\n",
       " 'country_Korea',\n",
       " 'country_Mongolia',\n",
       " 'country_Thailand',\n",
       " 'province_Busan',\n",
       " 'province_Chungcheongbuk-do',\n",
       " 'province_Chungcheongnam-do',\n",
       " 'province_Daegu',\n",
       " 'province_Daejeon',\n",
       " 'province_Gangwon-do',\n",
       " 'province_Gwangju',\n",
       " 'province_Gyeonggi-do',\n",
       " 'province_Gyeongsangbuk-do',\n",
       " 'province_Gyeongsangnam-do',\n",
       " 'province_Incheon',\n",
       " 'province_Jeju-do',\n",
       " 'province_Jeollabuk-do',\n",
       " 'province_Jeollanam-do',\n",
       " 'province_Sejong',\n",
       " 'province_Seoul',\n",
       " 'province_Ulsan',\n",
       " 'city_Andong-si',\n",
       " 'city_Ansan-si',\n",
       " 'city_Anseong-si',\n",
       " 'city_Anyang-si',\n",
       " 'city_Asan-si',\n",
       " 'city_Bonghwa-gun',\n",
       " 'city_Bucheon-si',\n",
       " 'city_Buk-gu',\n",
       " 'city_Bupyeong-gu',\n",
       " 'city_Busanjin-gu',\n",
       " 'city_Changnyeong-gun',\n",
       " 'city_Changwon-si',\n",
       " 'city_Cheonan-si',\n",
       " 'city_Cheongdo-gun',\n",
       " 'city_Cheongju-si',\n",
       " 'city_Cheongsong-gun',\n",
       " 'city_Chilgok-gun',\n",
       " 'city_Chunchun-si',\n",
       " 'city_Chungju-si',\n",
       " 'city_Daedeok-gu',\n",
       " 'city_Dalseo-gu',\n",
       " 'city_Dalseong-gun',\n",
       " 'city_Danyang-gun',\n",
       " 'city_Dobong-gu',\n",
       " 'city_Dong-gu',\n",
       " 'city_Dongdaemun-gu',\n",
       " 'city_Dongjak-gu',\n",
       " 'city_Dongnae-gu',\n",
       " 'city_Eumseong-gun',\n",
       " 'city_Eunpyeong-gu',\n",
       " 'city_Gangbuk-gu',\n",
       " 'city_Gangdong-gu',\n",
       " 'city_Gangnam-gu',\n",
       " 'city_Gangneung-si',\n",
       " 'city_Gangseo-gu',\n",
       " 'city_Geochang-gun',\n",
       " 'city_Geoje-si',\n",
       " 'city_Geumcheon-gu',\n",
       " 'city_Geumjeong-gu',\n",
       " 'city_Gimcheon-si',\n",
       " 'city_Gimhae-si',\n",
       " 'city_Gimje-si',\n",
       " 'city_Gimpo-si',\n",
       " 'city_Goesan-gun',\n",
       " 'city_Goryeong-gun',\n",
       " 'city_Goseong-gun',\n",
       " 'city_Goyang-si',\n",
       " 'city_Gumi-si',\n",
       " 'city_Gunpo-si',\n",
       " 'city_Gunsan-si',\n",
       " 'city_Gunwi-gun',\n",
       " 'city_Guri-si',\n",
       " 'city_Guro-gu',\n",
       " 'city_Gwacheon-si',\n",
       " 'city_Gwanak-gu',\n",
       " 'city_Gwangjin-gu',\n",
       " 'city_Gwangju-si',\n",
       " 'city_Gwangmyeong-si',\n",
       " 'city_Gwangyang-si',\n",
       " 'city_Gyeongju-si',\n",
       " 'city_Gyeongsan-si',\n",
       " 'city_Gyeryong-si',\n",
       " 'city_Gyeyang-gu',\n",
       " 'city_Haeundae-gu',\n",
       " 'city_Hamyang-gun',\n",
       " 'city_Hanam-si',\n",
       " 'city_Hapcheon-gun',\n",
       " 'city_Hongseong-gun',\n",
       " 'city_Hwaseong-si',\n",
       " 'city_Icheon-si',\n",
       " 'city_Jeju-do',\n",
       " 'city_Jeonju-si',\n",
       " 'city_Jeungpyeong-gun',\n",
       " 'city_Jinju-si',\n",
       " 'city_Jongno-gu',\n",
       " 'city_Jung-gu',\n",
       " 'city_Jungnang-gu',\n",
       " 'city_Mapo-gu',\n",
       " 'city_Michuhol-gu',\n",
       " 'city_Miryang-si',\n",
       " 'city_Mungyeong-si',\n",
       " 'city_Nam-gu',\n",
       " 'city_Namdong-gu',\n",
       " 'city_Namhae-gun',\n",
       " 'city_Namyangju-si',\n",
       " 'city_Nowon-gu',\n",
       " 'city_Osan-si',\n",
       " 'city_Paju-si',\n",
       " 'city_Pocheon-si',\n",
       " 'city_Pohang-si',\n",
       " 'city_Pyeongtaek-si',\n",
       " 'city_Saha-gu',\n",
       " 'city_Samcheok-si',\n",
       " 'city_Sangju-si',\n",
       " 'city_Sasang-gu',\n",
       " 'city_Sejong',\n",
       " 'city_Seo-gu',\n",
       " 'city_Seocho-gu',\n",
       " 'city_Seodaemun-gu',\n",
       " 'city_Seongbuk-gu',\n",
       " 'city_Seongdong-gu',\n",
       " 'city_Seongju-gun',\n",
       " 'city_Seongnam-si',\n",
       " 'city_Seosan-si',\n",
       " 'city_Siheung-si',\n",
       " 'city_Sokcho-si',\n",
       " 'city_Songpa-gu',\n",
       " 'city_Suncheon-si',\n",
       " 'city_Suseong-gu',\n",
       " 'city_Suwon-si',\n",
       " 'city_Suyeong-gu',\n",
       " 'city_Taebaek-si',\n",
       " 'city_Uijeongbu-si',\n",
       " 'city_Uiseong-gun',\n",
       " 'city_Uiwang-si',\n",
       " 'city_Ulju-gun',\n",
       " 'city_Unknown',\n",
       " 'city_Wonju-si',\n",
       " 'city_Wuhan',\n",
       " 'city_Yangcheon-gu',\n",
       " 'city_Yangsan-si',\n",
       " 'city_Yecheon-gun',\n",
       " 'city_Yeongcheon-si',\n",
       " 'city_Yeongdeok-gun',\n",
       " 'city_Yeongdeungpo-gu',\n",
       " 'city_Yeongju-si',\n",
       " 'city_Yeongyang-gun',\n",
       " 'city_Yeonje-gu',\n",
       " 'city_Yeonsu-gu',\n",
       " 'city_Yeosu-si',\n",
       " 'city_Yongin-si',\n",
       " 'city_Yongsan-gu',\n",
       " 'city_Yuseong-gu',\n",
       " 'city_etc',\n",
       " 'city_pocheon-si',\n",
       " 'infection_case_Cheongdo Daenam Hospital',\n",
       " 'infection_case_Dongan Church',\n",
       " \"infection_case_Eunpyeong St. Mary's Hospital\",\n",
       " 'infection_case_Guro-gu Call Center',\n",
       " 'infection_case_Ministry of Oceans and Fisheries',\n",
       " 'infection_case_Onchun Church',\n",
       " 'infection_case_Pilgrimage to Israel',\n",
       " 'infection_case_River of Grace Community Church',\n",
       " 'infection_case_Seongdong-gu APT',\n",
       " 'infection_case_Shincheonji Church',\n",
       " 'infection_case_Suyeong-gu Kindergarten',\n",
       " 'infection_case_contact with patient',\n",
       " 'infection_case_etc',\n",
       " 'infection_case_gym facility in Cheonan',\n",
       " 'infection_case_gym facility in Sejong',\n",
       " 'infection_case_overseas inflow',\n",
       " 'infection_case_unknown']"
      ]
     },
     "execution_count": 49,
     "metadata": {},
     "output_type": "execute_result"
    }
   ],
   "source": [
    "col_names"
   ]
  },
  {
   "cell_type": "markdown",
   "metadata": {
    "colab_type": "text",
    "id": "0uTSQY_liDHj"
   },
   "source": [
    "### Split the data into test and train subsamples"
   ]
  },
  {
   "cell_type": "code",
   "execution_count": 50,
   "metadata": {
    "colab": {},
    "colab_type": "code",
    "id": "BSkPut0gguds"
   },
   "outputs": [],
   "source": [
    "from sklearn.model_selection import train_test_split\n",
    "\n",
    "# dont forget to define your X and y\n",
    "X = df_dummies[['patient_id',\n",
    " 'global_num',\n",
    " 'birth_year',\n",
    " 'disease',\n",
    " 'infection_order',\n",
    " 'infected_by',\n",
    " 'contact_number',\n",
    " 'n_age',\n",
    " 'age_0s',\n",
    " 'age_100s',\n",
    " 'age_10s',\n",
    " 'age_20s',\n",
    " 'age_30s',\n",
    " 'age_40s',\n",
    " 'age_50s',\n",
    " 'age_60s',\n",
    " 'age_70s',\n",
    " 'age_80s',\n",
    " 'age_90s',\n",
    " 'age_Unknown',\n",
    " 'sex_Unknown',\n",
    " 'sex_female',\n",
    " 'sex_male',\n",
    " 'country_China',\n",
    " 'country_Korea',\n",
    " 'country_Mongolia',\n",
    " 'country_Thailand',\n",
    " 'province_Busan',\n",
    " 'province_Chungcheongbuk-do',\n",
    " 'province_Chungcheongnam-do',\n",
    " 'province_Daegu',\n",
    " 'province_Daejeon',\n",
    " 'province_Gangwon-do',\n",
    " 'province_Gwangju',\n",
    " 'province_Gyeonggi-do',\n",
    " 'province_Gyeongsangbuk-do',\n",
    " 'province_Gyeongsangnam-do',\n",
    " 'province_Incheon',\n",
    " 'province_Jeju-do',\n",
    " 'province_Jeollabuk-do',\n",
    " 'province_Jeollanam-do',\n",
    " 'province_Sejong',\n",
    " 'province_Seoul',\n",
    " 'province_Ulsan',\n",
    " 'city_Andong-si',\n",
    " 'city_Ansan-si',\n",
    " 'city_Anseong-si',\n",
    " 'city_Anyang-si',\n",
    " 'city_Asan-si',\n",
    " 'city_Bonghwa-gun',\n",
    " 'city_Bucheon-si',\n",
    " 'city_Buk-gu',\n",
    " 'city_Bupyeong-gu',\n",
    " 'city_Busanjin-gu',\n",
    " 'city_Changnyeong-gun',\n",
    " 'city_Changwon-si',\n",
    " 'city_Cheonan-si',\n",
    " 'city_Cheongdo-gun',\n",
    " 'city_Cheongju-si',\n",
    " 'city_Cheongsong-gun',\n",
    " 'city_Chilgok-gun',\n",
    " 'city_Chunchun-si',\n",
    " 'city_Chungju-si',\n",
    " 'city_Daedeok-gu',\n",
    " 'city_Dalseo-gu',\n",
    " 'city_Dalseong-gun',\n",
    " 'city_Danyang-gun',\n",
    " 'city_Dobong-gu',\n",
    " 'city_Dong-gu',\n",
    " 'city_Dongdaemun-gu',\n",
    " 'city_Dongjak-gu',\n",
    " 'city_Dongnae-gu',\n",
    " 'city_Eumseong-gun',\n",
    " 'city_Eunpyeong-gu',\n",
    " 'city_Gangbuk-gu',\n",
    " 'city_Gangdong-gu',\n",
    " 'city_Gangnam-gu',\n",
    " 'city_Gangneung-si',\n",
    " 'city_Gangseo-gu',\n",
    " 'city_Geochang-gun',\n",
    " 'city_Geoje-si',\n",
    " 'city_Geumcheon-gu',\n",
    " 'city_Geumjeong-gu',\n",
    " 'city_Gimcheon-si',\n",
    " 'city_Gimhae-si',\n",
    " 'city_Gimje-si',\n",
    " 'city_Gimpo-si',\n",
    " 'city_Goesan-gun',\n",
    " 'city_Goryeong-gun',\n",
    " 'city_Goseong-gun',\n",
    " 'city_Goyang-si',\n",
    " 'city_Gumi-si',\n",
    " 'city_Gunpo-si',\n",
    " 'city_Gunsan-si',\n",
    " 'city_Gunwi-gun',\n",
    " 'city_Guri-si',\n",
    " 'city_Guro-gu',\n",
    " 'city_Gwacheon-si',\n",
    " 'city_Gwanak-gu',\n",
    " 'city_Gwangjin-gu',\n",
    " 'city_Gwangju-si',\n",
    " 'city_Gwangmyeong-si',\n",
    " 'city_Gwangyang-si',\n",
    " 'city_Gyeongju-si',\n",
    " 'city_Gyeongsan-si',\n",
    " 'city_Gyeryong-si',\n",
    " 'city_Gyeyang-gu',\n",
    " 'city_Haeundae-gu',\n",
    " 'city_Hamyang-gun',\n",
    " 'city_Hanam-si',\n",
    " 'city_Hapcheon-gun',\n",
    " 'city_Hongseong-gun',\n",
    " 'city_Hwaseong-si',\n",
    " 'city_Icheon-si',\n",
    " 'city_Jeju-do',\n",
    " 'city_Jeonju-si',\n",
    " 'city_Jeungpyeong-gun',\n",
    " 'city_Jinju-si',\n",
    " 'city_Jongno-gu',\n",
    " 'city_Jung-gu',\n",
    " 'city_Jungnang-gu',\n",
    " 'city_Mapo-gu',\n",
    " 'city_Michuhol-gu',\n",
    " 'city_Miryang-si',\n",
    " 'city_Mungyeong-si',\n",
    " 'city_Nam-gu',\n",
    " 'city_Namdong-gu',\n",
    " 'city_Namhae-gun',\n",
    " 'city_Namyangju-si',\n",
    " 'city_Nowon-gu',\n",
    " 'city_Osan-si',\n",
    " 'city_Paju-si',\n",
    " 'city_Pocheon-si',\n",
    " 'city_Pohang-si',\n",
    " 'city_Pyeongtaek-si',\n",
    " 'city_Saha-gu',\n",
    " 'city_Samcheok-si',\n",
    " 'city_Sangju-si',\n",
    " 'city_Sasang-gu',\n",
    " 'city_Sejong',\n",
    " 'city_Seo-gu',\n",
    " 'city_Seocho-gu',\n",
    " 'city_Seodaemun-gu',\n",
    " 'city_Seongbuk-gu',\n",
    " 'city_Seongdong-gu',\n",
    " 'city_Seongju-gun',\n",
    " 'city_Seongnam-si',\n",
    " 'city_Seosan-si',\n",
    " 'city_Siheung-si',\n",
    " 'city_Sokcho-si',\n",
    " 'city_Songpa-gu',\n",
    " 'city_Suncheon-si',\n",
    " 'city_Suseong-gu',\n",
    " 'city_Suwon-si',\n",
    " 'city_Suyeong-gu',\n",
    " 'city_Taebaek-si',\n",
    " 'city_Uijeongbu-si',\n",
    " 'city_Uiseong-gun',\n",
    " 'city_Uiwang-si',\n",
    " 'city_Ulju-gun',\n",
    " 'city_Unknown',\n",
    " 'city_Wonju-si',\n",
    " 'city_Wuhan',\n",
    " 'city_Yangcheon-gu',\n",
    " 'city_Yangsan-si',\n",
    " 'city_Yecheon-gun',\n",
    " 'city_Yeongcheon-si',\n",
    " 'city_Yeongdeok-gun',\n",
    " 'city_Yeongdeungpo-gu',\n",
    " 'city_Yeongju-si',\n",
    " 'city_Yeongyang-gun',\n",
    " 'city_Yeonje-gu',\n",
    " 'city_Yeonsu-gu',\n",
    " 'city_Yeosu-si',\n",
    " 'city_Yongin-si',\n",
    " 'city_Yongsan-gu',\n",
    " 'city_Yuseong-gu',\n",
    " 'city_etc',\n",
    " 'city_pocheon-si',\n",
    " 'infection_case_Cheongdo Daenam Hospital',\n",
    " 'infection_case_Dongan Church',\n",
    " \"infection_case_Eunpyeong St. Mary's Hospital\",\n",
    " 'infection_case_Guro-gu Call Center',\n",
    " 'infection_case_Ministry of Oceans and Fisheries',\n",
    " 'infection_case_Onchun Church',\n",
    " 'infection_case_Pilgrimage to Israel',\n",
    " 'infection_case_River of Grace Community Church',\n",
    " 'infection_case_Seongdong-gu APT',\n",
    " 'infection_case_Shincheonji Church',\n",
    " 'infection_case_Suyeong-gu Kindergarten',\n",
    " 'infection_case_contact with patient',\n",
    " 'infection_case_etc',\n",
    " 'infection_case_gym facility in Cheonan',\n",
    " 'infection_case_gym facility in Sejong',\n",
    " 'infection_case_overseas inflow',\n",
    " 'infection_case_unknown']]\n",
    "\n",
    "y = df_dummies[['state']]\n",
    "\n",
    "\n",
    "X_train, X_test, y_train, y_test = train_test_split(X, y, test_size=.2, random_state=1)"
   ]
  },
  {
   "cell_type": "markdown",
   "metadata": {
    "colab_type": "text",
    "id": "TcrOg3y7gRtG"
   },
   "source": [
    "### Scale data to prep for model creation"
   ]
  },
  {
   "cell_type": "code",
   "execution_count": 51,
   "metadata": {
    "colab": {},
    "colab_type": "code",
    "id": "IZL-q-KtAYI6"
   },
   "outputs": [],
   "source": [
    "#scale data\n",
    "from sklearn import preprocessing\n",
    "import numpy as np\n",
    "# build scaler based on training data and apply it to test data to then also scale the test data\n",
    "scaler = preprocessing.StandardScaler().fit(X_train)\n",
    "X_train_scaled=scaler.transform(X_train)\n",
    "X_test_scaled=scaler.transform(X_test)"
   ]
  },
  {
   "cell_type": "code",
   "execution_count": 52,
   "metadata": {
    "colab": {},
    "colab_type": "code",
    "id": "ZSOICugNSpOR"
   },
   "outputs": [],
   "source": [
    "from sklearn.metrics import precision_recall_curve\n",
    "from sklearn.metrics import f1_score\n",
    "from sklearn.metrics import auc\n",
    "from sklearn.linear_model import LogisticRegression\n",
    "from matplotlib import pyplot\n",
    "from sklearn.metrics import precision_recall_curve\n",
    "from sklearn.metrics import f1_score\n",
    "from sklearn.metrics import auc\n",
    "from sklearn.linear_model import LogisticRegression\n",
    "from sklearn.metrics import classification_report,confusion_matrix,roc_curve,roc_auc_score\n",
    "from sklearn.metrics import accuracy_score,log_loss\n",
    "from matplotlib import pyplot"
   ]
  },
  {
   "cell_type": "markdown",
   "metadata": {
    "colab_type": "text",
    "id": "vzrLoM58SpOT"
   },
   "source": [
    "### Fit Random Forest Classifier\n",
    "The fit model shows an overall accuracy of 80% which is great and indicates our model was effectively able to identify the status of a patients in the South Korea dataset."
   ]
  },
  {
   "cell_type": "code",
   "execution_count": 53,
   "metadata": {
    "colab": {},
    "colab_type": "code",
    "id": "b9jQyje3SpOU"
   },
   "outputs": [
    {
     "name": "stderr",
     "output_type": "stream",
     "text": [
      "C:\\Users\\pam\\anaconda3\\lib\\site-packages\\ipykernel_launcher.py:3: DataConversionWarning: A column-vector y was passed when a 1d array was expected. Please change the shape of y to (n_samples,), for example using ravel().\n",
      "  This is separate from the ipykernel package so we can avoid doing imports until\n"
     ]
    },
    {
     "name": "stdout",
     "output_type": "stream",
     "text": [
      "Random Forest: Accuracy=0.854\n",
      "Random Forest: f1-score=0.817\n"
     ]
    }
   ],
   "source": [
    "from sklearn.ensemble import RandomForestClassifier\n",
    "clf = RandomForestClassifier(n_estimators=300, random_state = 1,n_jobs=-1)\n",
    "model_res = clf.fit(X_train_scaled, y_train)\n",
    "y_pred = model_res.predict(X_test_scaled)\n",
    "y_pred_prob = model_res.predict_proba(X_test_scaled)\n",
    "lr_probs = y_pred_prob[:,1]\n",
    "ac = accuracy_score(y_test, y_pred)\n",
    "\n",
    "f1 = f1_score(y_test, y_pred, average='weighted')\n",
    "cm = confusion_matrix(y_test, y_pred)\n",
    "\n",
    "print('Random Forest: Accuracy=%.3f' % (ac))\n",
    "\n",
    "print('Random Forest: f1-score=%.3f' % (f1))"
   ]
  },
  {
   "cell_type": "markdown",
   "metadata": {
    "colab_type": "text",
    "id": "QYdW02QQSpOW"
   },
   "source": [
    "### Create Confusion Matrix Plots\n",
    "Confusion matrices are great ways to review your model performance for a multi-class classification problem. Being able to identify which class the misclassified observations end up in is a great way to determine if you need to build additional features to improve your overall model. In the example below we plot a regular counts confusion matrix as well as a weighted percent confusion matrix. The percent confusion matrix is particulary helpful when you have unbalanced class sizes."
   ]
  },
  {
   "cell_type": "code",
   "execution_count": 54,
   "metadata": {
    "colab": {},
    "colab_type": "code",
    "id": "wSWGVZU6SpOW"
   },
   "outputs": [],
   "source": [
    "class_names=['isolated','released','missing','deceased'] # name  of classes"
   ]
  },
  {
   "cell_type": "code",
   "execution_count": 55,
   "metadata": {
    "colab": {},
    "colab_type": "code",
    "id": "GjnV5ugJSpOb"
   },
   "outputs": [
    {
     "name": "stdout",
     "output_type": "stream",
     "text": [
      "Confusion matrix, without normalization\n",
      "[[  6   1   0   0]\n",
      " [  0 345   6   0]\n",
      " [  0  57  12   0]\n",
      " [  0   1   0  16]]\n",
      "Normalized confusion matrix\n",
      "[[0.86 0.14 0.   0.  ]\n",
      " [0.   0.98 0.02 0.  ]\n",
      " [0.   0.83 0.17 0.  ]\n",
      " [0.   0.06 0.   0.94]]\n"
     ]
    },
    {
     "data": {
      "image/png": "[encoded data removed]",
      "text/plain": [
       "<Figure size 432x288 with 2 Axes>"
      ]
     },
     "metadata": {
      "needs_background": "light"
     },
     "output_type": "display_data"
    },
    {
     "data": {
      "image/png": "[encoded data removed]",
      "text/plain": [
       "<Figure size 432x288 with 2 Axes>"
      ]
     },
     "metadata": {
      "needs_background": "light"
     },
     "output_type": "display_data"
    }
   ],
   "source": [
    "import itertools\n",
    "import numpy as np\n",
    "import matplotlib.pyplot as plt\n",
    "\n",
    "from sklearn import svm, datasets\n",
    "from sklearn.model_selection import train_test_split\n",
    "from sklearn.metrics import confusion_matrix\n",
    "\n",
    "def plot_confusion_matrix(cm, classes,\n",
    "                          normalize=False,\n",
    "                          title='Confusion matrix',\n",
    "                          cmap=plt.cm.Blues):\n",
    "    \"\"\"\n",
    "    This function prints and plots the confusion matrix.\n",
    "    Normalization can be applied by setting `normalize=True`.\n",
    "    \"\"\"\n",
    "    if normalize:\n",
    "        cm = cm.astype('float') / cm.sum(axis=1)[:, np.newaxis]\n",
    "        print(\"Normalized confusion matrix\")\n",
    "    else:\n",
    "        print('Confusion matrix, without normalization')\n",
    "\n",
    "    print(cm)\n",
    "\n",
    "    plt.imshow(cm, interpolation='nearest', cmap=cmap)\n",
    "    plt.title(title)\n",
    "    plt.colorbar()\n",
    "    tick_marks = np.arange(len(classes))\n",
    "    plt.xticks(tick_marks, classes, rotation=45)\n",
    "    plt.yticks(tick_marks, classes)\n",
    "\n",
    "    fmt = '.2f' if normalize else 'd'\n",
    "    thresh = cm.max() / 2.\n",
    "    for i, j in itertools.product(range(cm.shape[0]), range(cm.shape[1])):\n",
    "        plt.text(j, i, format(cm[i, j], fmt),\n",
    "                 horizontalalignment=\"center\",\n",
    "                 color=\"white\" if cm[i, j] > thresh else \"black\")\n",
    "\n",
    "    plt.ylabel('True label')\n",
    "    plt.xlabel('Predicted label')\n",
    "    plt.tight_layout()\n",
    "\n",
    "\n",
    "# Compute confusion matrix\n",
    "cnf_matrix = confusion_matrix(y_test, y_pred)\n",
    "np.set_printoptions(precision=2)\n",
    "\n",
    "# Plot non-normalized confusion matrix\n",
    "plt.figure()\n",
    "plot_confusion_matrix(cnf_matrix, classes=class_names,\n",
    "                      title='Confusion matrix, without normalization')\n",
    "#plt.savefig('figures/RF_cm_multi_class.png')\n",
    "\n",
    "# Plot normalized confusion matrix\n",
    "plt.figure()\n",
    "plot_confusion_matrix(cnf_matrix, classes=class_names, normalize=True,\n",
    "                      title='Normalized confusion matrix')\n",
    "#plt.savefig('figures/RF_cm_proportion_multi_class.png', bbox_inches=\"tight\")\n",
    "plt.show()"
   ]
  },
  {
   "cell_type": "markdown",
   "metadata": {
    "colab_type": "text",
    "id": "Z7PtbV4LSpOc"
   },
   "source": [
    "### Plot feature importances\n",
    "The random forest algorithm can be used as a regression or classification model. In either case it tends to be a bit of a black box, where understanding what's happening under the hood can be difficult. Plotting the feature importances is one way that you can gain a perspective on which features are driving the model predictions."
   ]
  },
  {
   "cell_type": "code",
   "execution_count": 56,
   "metadata": {
    "colab": {},
    "colab_type": "code",
    "id": "T1xpGOCVSpOc"
   },
   "outputs": [
    {
     "name": "stdout",
     "output_type": "stream",
     "text": [
      "30\n"
     ]
    },
    {
     "data": {
      "image/png": "[encoded data removed]",
      "text/plain": [
       "<Figure size 720x720 with 1 Axes>"
      ]
     },
     "metadata": {
      "needs_background": "light"
     },
     "output_type": "display_data"
    }
   ],
   "source": [
    "feature_importance = clf.feature_importances_\n",
    "# make importances relative to max importance\n",
    "feature_importance = 100.0 * (feature_importance / feature_importance.max())[:30]\n",
    "sorted_idx = np.argsort(feature_importance)[:30]\n",
    "\n",
    "pos = np.arange(sorted_idx.shape[0]) + .5\n",
    "print(pos.size)\n",
    "sorted_idx.size\n",
    "plt.figure(figsize=(10,10))\n",
    "plt.barh(pos, feature_importance[sorted_idx], align='center')\n",
    "plt.yticks(pos, X.columns[sorted_idx])\n",
    "plt.xlabel('Relative Importance')\n",
    "plt.title('Variable Importance')\n",
    "plt.show()\n"
   ]
  },
  {
   "cell_type": "markdown",
   "metadata": {
    "colab_type": "text",
    "id": "Ys_mI5GsSpOe"
   },
   "source": [
    "The popularity of random forest is primarily due to how well it performs in a multitude of data situations. It tends to handle highly correlated features well, where as a linear regression model would not. In this case study we demonstrate the performance ability even with only a few features and almost all of them being highly correlated with each other.\n",
    "Random Forest is also used as an efficient way to investigate the importance of a set of features with a large data set. Consider random forest to be one of your first choices when building a decision tree, especially for multiclass classifications."
   ]
  }
 ],
 "metadata": {
  "colab": {
   "collapsed_sections": [
    "FXGd_NbdB5kn"
   ],
   "name": "RandomForest_casestudy_covid19.ipynb",
   "provenance": []
  },
  "kernelspec": {
   "display_name": "Python 3",
   "language": "python",
   "name": "python3"
  },
  "language_info": {
   "codemirror_mode": {
    "name": "ipython",
    "version": 3
   },
   "file_extension": ".py",
   "mimetype": "text/x-python",
   "name": "python",
   "nbconvert_exporter": "python",
   "pygments_lexer": "ipython3",
   "version": "3.7.6"
  }
 },
 "nbformat": 4,
 "nbformat_minor": 4
}
